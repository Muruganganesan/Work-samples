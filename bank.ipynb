{
  "nbformat": 4,
  "nbformat_minor": 0,
  "metadata": {
    "colab": {
      "provenance": [],
      "authorship_tag": "ABX9TyNC0iNXKvFqzRRFpM322+37",
      "include_colab_link": true
    },
    "kernelspec": {
      "name": "python3",
      "display_name": "Python 3"
    },
    "language_info": {
      "name": "python"
    }
  },
  "cells": [
    {
      "cell_type": "markdown",
      "metadata": {
        "id": "view-in-github",
        "colab_type": "text"
      },
      "source": [
        "<a href=\"https://colab.research.google.com/github/Muruganganesan/Work-samples/blob/main/bank.ipynb\" target=\"_parent\"><img src=\"https://colab.research.google.com/assets/colab-badge.svg\" alt=\"Open In Colab\"/></a>"
      ]
    },
    {
      "cell_type": "code",
      "source": [
        "card = input(\"Enter your card number: \")\n",
        "\n",
        "if card == \"123456\":\n",
        "    PIN = input(\"Enter your PIN: \")\n",
        "    if PIN == \"1234\":\n",
        "        print(\"Access granted\")\n",
        "\n",
        "        Balance = 10000\n",
        "        operation = input(\"Enter operation (W for Withdraw, D for Deposit, B for Balance): \")\n",
        "\n",
        "        if operation == \"W\":\n",
        "            amount = int(input(\"Enter amount to withdraw: \"))\n",
        "            if amount <= Balance:\n",
        "                Balance -= amount\n",
        "                print(\"Take cash. Your remaining balance is\", Balance)\n",
        "            else:\n",
        "                print(\"Low balance\")\n",
        "\n",
        "        elif operation == \"D\":\n",
        "            amount = int(input(\"Enter amount to deposit: \"))\n",
        "            Balance += amount\n",
        "            print(\"Your balance is\", Balance)\n",
        "\n",
        "        elif operation == \"B\":\n",
        "            print(\"Your balance is\", Balance)\n",
        "\n",
        "        else:\n",
        "            print(\"Invalid input\")\n",
        "\n",
        "    else:\n",
        "        print(\"Invalid PIN number, try again.\")\n",
        "else:\n",
        "    print(\"Invalid card\")\n"
      ],
      "metadata": {
        "colab": {
          "base_uri": "https://localhost:8080/"
        },
        "id": "bg6KzomaLwJs",
        "outputId": "99424852-d221-4b06-fd60-105f52fc7711"
      },
      "execution_count": null,
      "outputs": [
        {
          "output_type": "stream",
          "name": "stdout",
          "text": [
            "Enter your card number: 123456\n",
            "Enter your PIN: 1234\n",
            "Access granted\n",
            "Enter operation (W for Withdraw, D for Deposit, B for Balance): D\n",
            "Enter amount to deposit: 300000\n",
            "Your balance is 310000\n"
          ]
        }
      ]
    },
    {
      "cell_type": "code",
      "source": [
        "class HotelBillSystem:\n",
        "    def __init__(self):\n",
        "        self.room_rates = {\n",
        "            \"Single\": 100,\n",
        "            \"Double\": 150,\n",
        "            \"Suite\": 250\n",
        "        }\n",
        "        self.additional_services = {\n",
        "            \"Breakfast\": 10,\n",
        "            \"Lunch\": 20,\n",
        "            \"Dinner\": 30,\n",
        "            \"Laundry\": 15,\n",
        "            \"Spa\": 50\n",
        "        }\n",
        "\n",
        "    def calculate_bill(self, days_stayed, room_type, services):\n",
        "        if room_type not in self.room_rates:\n",
        "            return \"Invalid room type\"\n",
        "\n",
        "        room_cost = self.room_rates[room_type] * days_stayed\n",
        "        service_cost = 0\n",
        "\n",
        "        for service in services:\n",
        "            if service in self.additional_services:\n",
        "                service_cost += self.additional_services[service]\n",
        "            else:\n",
        "                return f\"Invalid service: {service}\"\n",
        "\n",
        "        total_bill = room_cost + service_cost\n",
        "        return total_bill\n",
        "\n",
        "    def get_user_input(self):\n",
        "        days_stayed = int(input(\"Enter number of days stayed: \"))\n",
        "        room_type = input(\"Enter room type (Single, Double, Suite): \").capitalize()\n",
        "\n",
        "        services = []\n",
        "        while True:\n",
        "            service = input(\"Enter additional service (Breakfast, Lunch, Dinner, Laundry, Spa) or 'done' to finish: \").capitalize()\n",
        "            if service == 'Done':\n",
        "                break\n",
        "            services.append(service)\n",
        "\n",
        "        return days_stayed, room_type, services\n",
        "\n",
        "    def display_bill(self, total_bill):\n",
        "        print(f\"\\nYour total bill is: ${total_bill}\")\n",
        "\n",
        "def main():\n",
        "    hotel_system = HotelBillSystem()\n",
        "    days_stayed, room_type, services = hotel_system.get_user_input()\n",
        "    total_bill = hotel_system.calculate_bill(days_stayed, room_type, services)\n",
        "\n",
        "    if isinstance(total_bill, str):\n",
        "        print(total_bill)\n",
        "    else:\n",
        "        hotel_system.display_bill(total_bill)\n",
        "\n",
        "if __name__ == \"__main__\":\n",
        "    main()"
      ],
      "metadata": {
        "id": "o7khUHCjMbe8",
        "colab": {
          "base_uri": "https://localhost:8080/"
        },
        "outputId": "8962eb61-3cf6-4fbe-c6a0-61470ab0a96e"
      },
      "execution_count": null,
      "outputs": [
        {
          "output_type": "stream",
          "name": "stdout",
          "text": [
            "Enter number of days stayed: 2\n",
            "Enter room type (Single, Double, Suite): single\n",
            "Enter additional service (Breakfast, Lunch, Dinner, Laundry, Spa) or 'done' to finish: lunch\n",
            "Enter additional service (Breakfast, Lunch, Dinner, Laundry, Spa) or 'done' to finish: spa\n",
            "Enter additional service (Breakfast, Lunch, Dinner, Laundry, Spa) or 'done' to finish: done\n",
            "\n",
            "Your total bill is: $270\n"
          ]
        }
      ]
    },
    {
      "cell_type": "code",
      "source": [],
      "metadata": {
        "id": "pV69LOtOEZEt"
      },
      "execution_count": null,
      "outputs": []
    }
  ]
}